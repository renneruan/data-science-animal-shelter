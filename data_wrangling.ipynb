{
 "cells": [
  {
   "cell_type": "markdown",
   "metadata": {},
   "source": [
    "## Data Wrangling\n",
    "\n",
    "This file englobes the process of discover the raw data gathered, analyzing how to cleaning and preprocess the data to use on the model."
   ]
  },
  {
   "cell_type": "code",
   "execution_count": 57,
   "metadata": {},
   "outputs": [],
   "source": [
    "import pandas as pd\n",
    "import numpy as np"
   ]
  },
  {
   "cell_type": "code",
   "execution_count": 58,
   "metadata": {},
   "outputs": [
    {
     "name": "stdout",
     "output_type": "stream",
     "text": [
      "Último arquivo de entradas: data/intake\\20241215_165016.json\n",
      "Último arquivo de saídas: data/outcome\\20241215_165403.json\n"
     ]
    }
   ],
   "source": [
    "import glob\n",
    "import os\n",
    "\n",
    "intake_files = glob.glob(\"data/intake/*.json\")\n",
    "latest_intake_raw_file = max(intake_files, key=os.path.getctime)\n",
    "\n",
    "outcome_files = glob.glob(\"data/outcome/*.json\")\n",
    "latest_outcome_raw_file = max(outcome_files, key=os.path.getctime)\n",
    "\n",
    "print(f\"Último arquivo de entradas: {latest_intake_raw_file}\")\n",
    "print(f\"Último arquivo de saídas: {latest_outcome_raw_file}\")"
   ]
  },
  {
   "cell_type": "code",
   "execution_count": 59,
   "metadata": {},
   "outputs": [
    {
     "data": {
      "text/plain": [
       "(170, 1000)"
      ]
     },
     "execution_count": 59,
     "metadata": {},
     "output_type": "execute_result"
    }
   ],
   "source": [
    "df_intake_raw = pd.read_json(latest_intake_raw_file)\n",
    "df_intake_raw.shape\n",
    "# The raw json was saved with a array of arrays"
   ]
  },
  {
   "cell_type": "code",
   "execution_count": 60,
   "metadata": {},
   "outputs": [
    {
     "data": {
      "text/plain": [
       "0    {'animal_id': 'A786884', 'name': '*Brock', 'da...\n",
       "1    {'animal_id': 'A901530', 'datetime': '2024-04-...\n",
       "2    {'animal_id': 'A544916', 'name': 'Blue', 'date...\n",
       "3    {'animal_id': 'A813859', 'name': 'Snow', 'date...\n",
       "4    {'animal_id': 'A779053', 'name': 'Shadow', 'da...\n",
       "Name: 0, dtype: object"
      ]
     },
     "execution_count": 60,
     "metadata": {},
     "output_type": "execute_result"
    }
   ],
   "source": [
    "df_intake_raw[0].head()"
   ]
  },
  {
   "cell_type": "code",
   "execution_count": 61,
   "metadata": {},
   "outputs": [
    {
     "data": {
      "text/html": [
       "<div>\n",
       "<style scoped>\n",
       "    .dataframe tbody tr th:only-of-type {\n",
       "        vertical-align: middle;\n",
       "    }\n",
       "\n",
       "    .dataframe tbody tr th {\n",
       "        vertical-align: top;\n",
       "    }\n",
       "\n",
       "    .dataframe thead th {\n",
       "        text-align: right;\n",
       "    }\n",
       "</style>\n",
       "<table border=\"1\" class=\"dataframe\">\n",
       "  <thead>\n",
       "    <tr style=\"text-align: right;\">\n",
       "      <th></th>\n",
       "      <th>animal_id</th>\n",
       "      <th>name</th>\n",
       "      <th>datetime</th>\n",
       "      <th>datetime2</th>\n",
       "      <th>found_location</th>\n",
       "      <th>intake_type</th>\n",
       "      <th>intake_condition</th>\n",
       "      <th>animal_type</th>\n",
       "      <th>sex_upon_intake</th>\n",
       "      <th>age_upon_intake</th>\n",
       "      <th>breed</th>\n",
       "      <th>color</th>\n",
       "    </tr>\n",
       "  </thead>\n",
       "  <tbody>\n",
       "    <tr>\n",
       "      <th>0</th>\n",
       "      <td>A786884</td>\n",
       "      <td>*Brock</td>\n",
       "      <td>2019-01-03T16:19:00.000</td>\n",
       "      <td>2019-01-03T16:19:00.000</td>\n",
       "      <td>2501 Magin Meadow Dr in Austin (TX)</td>\n",
       "      <td>Stray</td>\n",
       "      <td>Normal</td>\n",
       "      <td>Dog</td>\n",
       "      <td>Neutered Male</td>\n",
       "      <td>2 years</td>\n",
       "      <td>Beagle Mix</td>\n",
       "      <td>Tricolor</td>\n",
       "    </tr>\n",
       "    <tr>\n",
       "      <th>1</th>\n",
       "      <td>A706918</td>\n",
       "      <td>Belle</td>\n",
       "      <td>2015-07-05T12:59:00.000</td>\n",
       "      <td>2015-07-05T12:59:00.000</td>\n",
       "      <td>9409 Bluegrass Dr in Austin (TX)</td>\n",
       "      <td>Stray</td>\n",
       "      <td>Normal</td>\n",
       "      <td>Dog</td>\n",
       "      <td>Spayed Female</td>\n",
       "      <td>8 years</td>\n",
       "      <td>English Springer Spaniel</td>\n",
       "      <td>White/Liver</td>\n",
       "    </tr>\n",
       "    <tr>\n",
       "      <th>2</th>\n",
       "      <td>A724273</td>\n",
       "      <td>Runster</td>\n",
       "      <td>2016-04-14T18:43:00.000</td>\n",
       "      <td>2016-04-14T18:43:00.000</td>\n",
       "      <td>2818 Palomino Trail in Austin (TX)</td>\n",
       "      <td>Stray</td>\n",
       "      <td>Normal</td>\n",
       "      <td>Dog</td>\n",
       "      <td>Intact Male</td>\n",
       "      <td>11 months</td>\n",
       "      <td>Basenji Mix</td>\n",
       "      <td>Sable/White</td>\n",
       "    </tr>\n",
       "    <tr>\n",
       "      <th>3</th>\n",
       "      <td>A665644</td>\n",
       "      <td>NaN</td>\n",
       "      <td>2013-10-21T07:59:00.000</td>\n",
       "      <td>2013-10-21T07:59:00.000</td>\n",
       "      <td>Austin (TX)</td>\n",
       "      <td>Stray</td>\n",
       "      <td>Sick</td>\n",
       "      <td>Cat</td>\n",
       "      <td>Intact Female</td>\n",
       "      <td>4 weeks</td>\n",
       "      <td>Domestic Shorthair Mix</td>\n",
       "      <td>Calico</td>\n",
       "    </tr>\n",
       "    <tr>\n",
       "      <th>4</th>\n",
       "      <td>A857105</td>\n",
       "      <td>Johnny Ringo</td>\n",
       "      <td>2022-05-12T00:23:00.000</td>\n",
       "      <td>2022-05-12T00:23:00.000</td>\n",
       "      <td>4404 Sarasota Drive in Austin (TX)</td>\n",
       "      <td>Public Assist</td>\n",
       "      <td>Normal</td>\n",
       "      <td>Cat</td>\n",
       "      <td>Neutered Male</td>\n",
       "      <td>2 years</td>\n",
       "      <td>Domestic Shorthair</td>\n",
       "      <td>Orange Tabby</td>\n",
       "    </tr>\n",
       "  </tbody>\n",
       "</table>\n",
       "</div>"
      ],
      "text/plain": [
       "  animal_id          name                 datetime                datetime2  \\\n",
       "0   A786884        *Brock  2019-01-03T16:19:00.000  2019-01-03T16:19:00.000   \n",
       "1   A706918         Belle  2015-07-05T12:59:00.000  2015-07-05T12:59:00.000   \n",
       "2   A724273       Runster  2016-04-14T18:43:00.000  2016-04-14T18:43:00.000   \n",
       "3   A665644           NaN  2013-10-21T07:59:00.000  2013-10-21T07:59:00.000   \n",
       "4   A857105  Johnny Ringo  2022-05-12T00:23:00.000  2022-05-12T00:23:00.000   \n",
       "\n",
       "                        found_location    intake_type intake_condition  \\\n",
       "0  2501 Magin Meadow Dr in Austin (TX)          Stray           Normal   \n",
       "1     9409 Bluegrass Dr in Austin (TX)          Stray           Normal   \n",
       "2   2818 Palomino Trail in Austin (TX)          Stray           Normal   \n",
       "3                          Austin (TX)          Stray             Sick   \n",
       "4   4404 Sarasota Drive in Austin (TX)  Public Assist           Normal   \n",
       "\n",
       "  animal_type sex_upon_intake age_upon_intake                     breed  \\\n",
       "0         Dog   Neutered Male         2 years                Beagle Mix   \n",
       "1         Dog   Spayed Female         8 years  English Springer Spaniel   \n",
       "2         Dog     Intact Male       11 months               Basenji Mix   \n",
       "3         Cat   Intact Female         4 weeks    Domestic Shorthair Mix   \n",
       "4         Cat   Neutered Male         2 years        Domestic Shorthair   \n",
       "\n",
       "          color  \n",
       "0      Tricolor  \n",
       "1   White/Liver  \n",
       "2   Sable/White  \n",
       "3        Calico  \n",
       "4  Orange Tabby  "
      ]
     },
     "execution_count": 61,
     "metadata": {},
     "output_type": "execute_result"
    }
   ],
   "source": [
    "def transform_json_in_dataframe(raw_df):\n",
    "    df_flatted = np.concatenate(raw_df.to_numpy())\n",
    "    df_flatted = df_flatted[df_flatted != np.array(None)]\n",
    "\n",
    "    return pd.json_normalize(df_flatted)\n",
    "\n",
    "\n",
    "df_intake = transform_json_in_dataframe(df_intake_raw)\n",
    "df_intake.head()"
   ]
  },
  {
   "cell_type": "code",
   "execution_count": 62,
   "metadata": {},
   "outputs": [
    {
     "data": {
      "text/html": [
       "<div>\n",
       "<style scoped>\n",
       "    .dataframe tbody tr th:only-of-type {\n",
       "        vertical-align: middle;\n",
       "    }\n",
       "\n",
       "    .dataframe tbody tr th {\n",
       "        vertical-align: top;\n",
       "    }\n",
       "\n",
       "    .dataframe thead th {\n",
       "        text-align: right;\n",
       "    }\n",
       "</style>\n",
       "<table border=\"1\" class=\"dataframe\">\n",
       "  <thead>\n",
       "    <tr style=\"text-align: right;\">\n",
       "      <th></th>\n",
       "      <th>animal_id</th>\n",
       "      <th>name</th>\n",
       "      <th>datetime</th>\n",
       "      <th>monthyear</th>\n",
       "      <th>date_of_birth</th>\n",
       "      <th>outcome_type</th>\n",
       "      <th>animal_type</th>\n",
       "      <th>sex_upon_outcome</th>\n",
       "      <th>age_upon_outcome</th>\n",
       "      <th>breed</th>\n",
       "      <th>color</th>\n",
       "      <th>outcome_subtype</th>\n",
       "    </tr>\n",
       "  </thead>\n",
       "  <tbody>\n",
       "    <tr>\n",
       "      <th>0</th>\n",
       "      <td>A882831</td>\n",
       "      <td>*Hamilton</td>\n",
       "      <td>2023-07-01T18:12:00.000</td>\n",
       "      <td>2023-07-01T18:12:00.000</td>\n",
       "      <td>2023-03-25T00:00:00.000</td>\n",
       "      <td>Adoption</td>\n",
       "      <td>Cat</td>\n",
       "      <td>Neutered Male</td>\n",
       "      <td>3 months</td>\n",
       "      <td>Domestic Shorthair Mix</td>\n",
       "      <td>Black/White</td>\n",
       "      <td>NaN</td>\n",
       "    </tr>\n",
       "    <tr>\n",
       "      <th>1</th>\n",
       "      <td>A794011</td>\n",
       "      <td>Chunk</td>\n",
       "      <td>2019-05-08T18:20:00.000</td>\n",
       "      <td>2019-05-08T18:20:00.000</td>\n",
       "      <td>2017-05-02T00:00:00.000</td>\n",
       "      <td>Rto-Adopt</td>\n",
       "      <td>Cat</td>\n",
       "      <td>Neutered Male</td>\n",
       "      <td>2 years</td>\n",
       "      <td>Domestic Shorthair Mix</td>\n",
       "      <td>Brown Tabby/White</td>\n",
       "      <td>NaN</td>\n",
       "    </tr>\n",
       "    <tr>\n",
       "      <th>2</th>\n",
       "      <td>A776359</td>\n",
       "      <td>Gizmo</td>\n",
       "      <td>2018-07-18T16:02:00.000</td>\n",
       "      <td>2018-07-18T16:02:00.000</td>\n",
       "      <td>2017-07-12T00:00:00.000</td>\n",
       "      <td>Adoption</td>\n",
       "      <td>Dog</td>\n",
       "      <td>Neutered Male</td>\n",
       "      <td>1 year</td>\n",
       "      <td>Chihuahua Shorthair Mix</td>\n",
       "      <td>White/Brown</td>\n",
       "      <td>NaN</td>\n",
       "    </tr>\n",
       "    <tr>\n",
       "      <th>3</th>\n",
       "      <td>A821648</td>\n",
       "      <td>NaN</td>\n",
       "      <td>2020-08-16T11:38:00.000</td>\n",
       "      <td>2020-08-16T11:38:00.000</td>\n",
       "      <td>2019-08-16T00:00:00.000</td>\n",
       "      <td>Euthanasia</td>\n",
       "      <td>Other</td>\n",
       "      <td>Unknown</td>\n",
       "      <td>1 year</td>\n",
       "      <td>Raccoon</td>\n",
       "      <td>Gray</td>\n",
       "      <td>NaN</td>\n",
       "    </tr>\n",
       "    <tr>\n",
       "      <th>4</th>\n",
       "      <td>A720371</td>\n",
       "      <td>Moose</td>\n",
       "      <td>2016-02-13T17:59:00.000</td>\n",
       "      <td>2016-02-13T17:59:00.000</td>\n",
       "      <td>2015-10-08T00:00:00.000</td>\n",
       "      <td>Adoption</td>\n",
       "      <td>Dog</td>\n",
       "      <td>Neutered Male</td>\n",
       "      <td>4 months</td>\n",
       "      <td>Anatol Shepherd/Labrador Retriever</td>\n",
       "      <td>Buff</td>\n",
       "      <td>NaN</td>\n",
       "    </tr>\n",
       "  </tbody>\n",
       "</table>\n",
       "</div>"
      ],
      "text/plain": [
       "  animal_id       name                 datetime                monthyear  \\\n",
       "0   A882831  *Hamilton  2023-07-01T18:12:00.000  2023-07-01T18:12:00.000   \n",
       "1   A794011      Chunk  2019-05-08T18:20:00.000  2019-05-08T18:20:00.000   \n",
       "2   A776359      Gizmo  2018-07-18T16:02:00.000  2018-07-18T16:02:00.000   \n",
       "3   A821648        NaN  2020-08-16T11:38:00.000  2020-08-16T11:38:00.000   \n",
       "4   A720371      Moose  2016-02-13T17:59:00.000  2016-02-13T17:59:00.000   \n",
       "\n",
       "             date_of_birth outcome_type animal_type sex_upon_outcome  \\\n",
       "0  2023-03-25T00:00:00.000     Adoption         Cat    Neutered Male   \n",
       "1  2017-05-02T00:00:00.000    Rto-Adopt         Cat    Neutered Male   \n",
       "2  2017-07-12T00:00:00.000     Adoption         Dog    Neutered Male   \n",
       "3  2019-08-16T00:00:00.000   Euthanasia       Other          Unknown   \n",
       "4  2015-10-08T00:00:00.000     Adoption         Dog    Neutered Male   \n",
       "\n",
       "  age_upon_outcome                               breed              color  \\\n",
       "0         3 months              Domestic Shorthair Mix        Black/White   \n",
       "1          2 years              Domestic Shorthair Mix  Brown Tabby/White   \n",
       "2           1 year             Chihuahua Shorthair Mix        White/Brown   \n",
       "3           1 year                             Raccoon               Gray   \n",
       "4         4 months  Anatol Shepherd/Labrador Retriever               Buff   \n",
       "\n",
       "  outcome_subtype  \n",
       "0             NaN  \n",
       "1             NaN  \n",
       "2             NaN  \n",
       "3             NaN  \n",
       "4             NaN  "
      ]
     },
     "execution_count": 62,
     "metadata": {},
     "output_type": "execute_result"
    }
   ],
   "source": [
    "df_outcome_raw = pd.read_json(latest_outcome_raw_file)\n",
    "df_outcome = transform_json_in_dataframe(df_outcome_raw)\n",
    "df_outcome.head()"
   ]
  },
  {
   "cell_type": "code",
   "execution_count": 63,
   "metadata": {},
   "outputs": [
    {
     "name": "stdout",
     "output_type": "stream",
     "text": [
      "Tamanho de entradas: (169668, 12)\n",
      "Tamanho de saídas: (169683, 12)\n"
     ]
    }
   ],
   "source": [
    "print(f\"Tamanho de entradas: {df_intake.shape}\")\n",
    "print(f\"Tamanho de saídas: {df_outcome.shape}\")"
   ]
  },
  {
   "cell_type": "code",
   "execution_count": 64,
   "metadata": {},
   "outputs": [
    {
     "name": "stdout",
     "output_type": "stream",
     "text": [
      "<class 'pandas.core.frame.DataFrame'>\n",
      "RangeIndex: 169668 entries, 0 to 169667\n",
      "Data columns (total 12 columns):\n",
      " #   Column            Non-Null Count   Dtype \n",
      "---  ------            --------------   ----- \n",
      " 0   animal_id         169668 non-null  object\n",
      " 1   name              120959 non-null  object\n",
      " 2   datetime          169668 non-null  object\n",
      " 3   datetime2         169668 non-null  object\n",
      " 4   found_location    169668 non-null  object\n",
      " 5   intake_type       169668 non-null  object\n",
      " 6   intake_condition  169668 non-null  object\n",
      " 7   animal_type       169668 non-null  object\n",
      " 8   sex_upon_intake   169668 non-null  object\n",
      " 9   age_upon_intake   169668 non-null  object\n",
      " 10  breed             169668 non-null  object\n",
      " 11  color             169668 non-null  object\n",
      "dtypes: object(12)\n",
      "memory usage: 15.5+ MB\n"
     ]
    }
   ],
   "source": [
    "df_intake.info()"
   ]
  },
  {
   "cell_type": "code",
   "execution_count": 65,
   "metadata": {},
   "outputs": [
    {
     "data": {
      "text/html": [
       "<div>\n",
       "<style scoped>\n",
       "    .dataframe tbody tr th:only-of-type {\n",
       "        vertical-align: middle;\n",
       "    }\n",
       "\n",
       "    .dataframe tbody tr th {\n",
       "        vertical-align: top;\n",
       "    }\n",
       "\n",
       "    .dataframe thead th {\n",
       "        text-align: right;\n",
       "    }\n",
       "</style>\n",
       "<table border=\"1\" class=\"dataframe\">\n",
       "  <thead>\n",
       "    <tr style=\"text-align: right;\">\n",
       "      <th></th>\n",
       "      <th>animal_id</th>\n",
       "      <th>name</th>\n",
       "      <th>datetime</th>\n",
       "      <th>datetime2</th>\n",
       "      <th>found_location</th>\n",
       "      <th>intake_type</th>\n",
       "      <th>intake_condition</th>\n",
       "      <th>animal_type</th>\n",
       "      <th>sex_upon_intake</th>\n",
       "      <th>age_upon_intake</th>\n",
       "      <th>breed</th>\n",
       "      <th>color</th>\n",
       "    </tr>\n",
       "  </thead>\n",
       "  <tbody>\n",
       "    <tr>\n",
       "      <th>count</th>\n",
       "      <td>169668</td>\n",
       "      <td>120959</td>\n",
       "      <td>169668</td>\n",
       "      <td>169668</td>\n",
       "      <td>169668</td>\n",
       "      <td>169668</td>\n",
       "      <td>169668</td>\n",
       "      <td>169668</td>\n",
       "      <td>169668</td>\n",
       "      <td>169668</td>\n",
       "      <td>169668</td>\n",
       "      <td>169668</td>\n",
       "    </tr>\n",
       "    <tr>\n",
       "      <th>unique</th>\n",
       "      <td>151314</td>\n",
       "      <td>29143</td>\n",
       "      <td>116185</td>\n",
       "      <td>116185</td>\n",
       "      <td>68357</td>\n",
       "      <td>6</td>\n",
       "      <td>20</td>\n",
       "      <td>5</td>\n",
       "      <td>6</td>\n",
       "      <td>56</td>\n",
       "      <td>2963</td>\n",
       "      <td>653</td>\n",
       "    </tr>\n",
       "    <tr>\n",
       "      <th>top</th>\n",
       "      <td>A721033</td>\n",
       "      <td>Luna</td>\n",
       "      <td>2016-09-23T12:00:00.000</td>\n",
       "      <td>2016-09-23T12:00:00.000</td>\n",
       "      <td>Austin (TX)</td>\n",
       "      <td>Stray</td>\n",
       "      <td>Normal</td>\n",
       "      <td>Dog</td>\n",
       "      <td>Intact Male</td>\n",
       "      <td>1 year</td>\n",
       "      <td>Domestic Shorthair Mix</td>\n",
       "      <td>Black/White</td>\n",
       "    </tr>\n",
       "    <tr>\n",
       "      <th>freq</th>\n",
       "      <td>33</td>\n",
       "      <td>738</td>\n",
       "      <td>64</td>\n",
       "      <td>64</td>\n",
       "      <td>30828</td>\n",
       "      <td>116425</td>\n",
       "      <td>143944</td>\n",
       "      <td>92518</td>\n",
       "      <td>57481</td>\n",
       "      <td>27687</td>\n",
       "      <td>33632</td>\n",
       "      <td>17561</td>\n",
       "    </tr>\n",
       "  </tbody>\n",
       "</table>\n",
       "</div>"
      ],
      "text/plain": [
       "       animal_id    name                 datetime                datetime2  \\\n",
       "count     169668  120959                   169668                   169668   \n",
       "unique    151314   29143                   116185                   116185   \n",
       "top      A721033    Luna  2016-09-23T12:00:00.000  2016-09-23T12:00:00.000   \n",
       "freq          33     738                       64                       64   \n",
       "\n",
       "       found_location intake_type intake_condition animal_type  \\\n",
       "count          169668      169668           169668      169668   \n",
       "unique          68357           6               20           5   \n",
       "top       Austin (TX)       Stray           Normal         Dog   \n",
       "freq            30828      116425           143944       92518   \n",
       "\n",
       "       sex_upon_intake age_upon_intake                   breed        color  \n",
       "count           169668          169668                  169668       169668  \n",
       "unique               6              56                    2963          653  \n",
       "top        Intact Male          1 year  Domestic Shorthair Mix  Black/White  \n",
       "freq             57481           27687                   33632        17561  "
      ]
     },
     "execution_count": 65,
     "metadata": {},
     "output_type": "execute_result"
    }
   ],
   "source": [
    "df_intake.describe()"
   ]
  },
  {
   "cell_type": "code",
   "execution_count": 66,
   "metadata": {},
   "outputs": [
    {
     "data": {
      "text/plain": [
       "(33, 12)"
      ]
     },
     "execution_count": 66,
     "metadata": {},
     "output_type": "execute_result"
    }
   ],
   "source": [
    "df_intake[df_intake[\"animal_id\"] == \"A721033\"].shape"
   ]
  },
  {
   "cell_type": "code",
   "execution_count": 67,
   "metadata": {},
   "outputs": [
    {
     "data": {
      "text/plain": [
       "array(['2 years', '8 years', '11 months', '4 weeks', '4 years', '6 years',\n",
       "       '6 months', '5 months', '1 month', '14 years', '2 weeks', '1 week',\n",
       "       '2 months', '18 years', '9 years', '4 months', '1 day', '1 year',\n",
       "       '3 years', '4 days', '5 years', '15 years', '8 months', '6 days',\n",
       "       '7 years', '3 months', '3 weeks', '12 years', '9 months',\n",
       "       '10 years', '10 months', '7 months', '0 years', '1 weeks',\n",
       "       '5 days', '17 years', '2 days', '11 years', '3 days', '13 years',\n",
       "       '5 weeks', '16 years', '19 years', '20 years', '-1 years',\n",
       "       '-3 years', '22 years', '-4 years', '28 years', 'NULL', '23 years',\n",
       "       '30 years', '-2 years', '21 years', '25 years', '24 years'],\n",
       "      dtype=object)"
      ]
     },
     "execution_count": 67,
     "metadata": {},
     "output_type": "execute_result"
    }
   ],
   "source": [
    "df_intake[\"age_upon_intake\"].unique()\n",
    "\n",
    "# Muitos valores diversos e não precisos"
   ]
  },
  {
   "cell_type": "code",
   "execution_count": 68,
   "metadata": {},
   "outputs": [
    {
     "data": {
      "text/html": [
       "<div>\n",
       "<style scoped>\n",
       "    .dataframe tbody tr th:only-of-type {\n",
       "        vertical-align: middle;\n",
       "    }\n",
       "\n",
       "    .dataframe tbody tr th {\n",
       "        vertical-align: top;\n",
       "    }\n",
       "\n",
       "    .dataframe thead th {\n",
       "        text-align: right;\n",
       "    }\n",
       "</style>\n",
       "<table border=\"1\" class=\"dataframe\">\n",
       "  <thead>\n",
       "    <tr style=\"text-align: right;\">\n",
       "      <th></th>\n",
       "      <th>datetime</th>\n",
       "      <th>intake_type</th>\n",
       "      <th>intake_condition</th>\n",
       "      <th>animal_type</th>\n",
       "      <th>sex_upon_intake</th>\n",
       "    </tr>\n",
       "  </thead>\n",
       "  <tbody>\n",
       "    <tr>\n",
       "      <th>0</th>\n",
       "      <td>2019-01-03T16:19:00.000</td>\n",
       "      <td>Stray</td>\n",
       "      <td>Normal</td>\n",
       "      <td>Dog</td>\n",
       "      <td>Neutered Male</td>\n",
       "    </tr>\n",
       "    <tr>\n",
       "      <th>1</th>\n",
       "      <td>2015-07-05T12:59:00.000</td>\n",
       "      <td>Stray</td>\n",
       "      <td>Normal</td>\n",
       "      <td>Dog</td>\n",
       "      <td>Spayed Female</td>\n",
       "    </tr>\n",
       "    <tr>\n",
       "      <th>2</th>\n",
       "      <td>2016-04-14T18:43:00.000</td>\n",
       "      <td>Stray</td>\n",
       "      <td>Normal</td>\n",
       "      <td>Dog</td>\n",
       "      <td>Intact Male</td>\n",
       "    </tr>\n",
       "    <tr>\n",
       "      <th>3</th>\n",
       "      <td>2013-10-21T07:59:00.000</td>\n",
       "      <td>Stray</td>\n",
       "      <td>Sick</td>\n",
       "      <td>Cat</td>\n",
       "      <td>Intact Female</td>\n",
       "    </tr>\n",
       "    <tr>\n",
       "      <th>4</th>\n",
       "      <td>2022-05-12T00:23:00.000</td>\n",
       "      <td>Public Assist</td>\n",
       "      <td>Normal</td>\n",
       "      <td>Cat</td>\n",
       "      <td>Neutered Male</td>\n",
       "    </tr>\n",
       "    <tr>\n",
       "      <th>...</th>\n",
       "      <td>...</td>\n",
       "      <td>...</td>\n",
       "      <td>...</td>\n",
       "      <td>...</td>\n",
       "      <td>...</td>\n",
       "    </tr>\n",
       "    <tr>\n",
       "      <th>169663</th>\n",
       "      <td>2024-12-11T11:25:00.000</td>\n",
       "      <td>Stray</td>\n",
       "      <td>Normal</td>\n",
       "      <td>Cat</td>\n",
       "      <td>Intact Male</td>\n",
       "    </tr>\n",
       "    <tr>\n",
       "      <th>169664</th>\n",
       "      <td>2024-12-09T13:32:00.000</td>\n",
       "      <td>Stray</td>\n",
       "      <td>Normal</td>\n",
       "      <td>Dog</td>\n",
       "      <td>Intact Male</td>\n",
       "    </tr>\n",
       "    <tr>\n",
       "      <th>169665</th>\n",
       "      <td>2017-07-03T15:12:00.000</td>\n",
       "      <td>Stray</td>\n",
       "      <td>Normal</td>\n",
       "      <td>Cat</td>\n",
       "      <td>Intact Male</td>\n",
       "    </tr>\n",
       "    <tr>\n",
       "      <th>169666</th>\n",
       "      <td>2024-12-11T11:25:00.000</td>\n",
       "      <td>Stray</td>\n",
       "      <td>Normal</td>\n",
       "      <td>Cat</td>\n",
       "      <td>Intact Male</td>\n",
       "    </tr>\n",
       "    <tr>\n",
       "      <th>169667</th>\n",
       "      <td>2024-12-15T11:33:00.000</td>\n",
       "      <td>Owner Surrender</td>\n",
       "      <td>Normal</td>\n",
       "      <td>Cat</td>\n",
       "      <td>Neutered Male</td>\n",
       "    </tr>\n",
       "  </tbody>\n",
       "</table>\n",
       "<p>169668 rows × 5 columns</p>\n",
       "</div>"
      ],
      "text/plain": [
       "                       datetime      intake_type intake_condition animal_type  \\\n",
       "0       2019-01-03T16:19:00.000            Stray           Normal         Dog   \n",
       "1       2015-07-05T12:59:00.000            Stray           Normal         Dog   \n",
       "2       2016-04-14T18:43:00.000            Stray           Normal         Dog   \n",
       "3       2013-10-21T07:59:00.000            Stray             Sick         Cat   \n",
       "4       2022-05-12T00:23:00.000    Public Assist           Normal         Cat   \n",
       "...                         ...              ...              ...         ...   \n",
       "169663  2024-12-11T11:25:00.000            Stray           Normal         Cat   \n",
       "169664  2024-12-09T13:32:00.000            Stray           Normal         Dog   \n",
       "169665  2017-07-03T15:12:00.000            Stray           Normal         Cat   \n",
       "169666  2024-12-11T11:25:00.000            Stray           Normal         Cat   \n",
       "169667  2024-12-15T11:33:00.000  Owner Surrender           Normal         Cat   \n",
       "\n",
       "       sex_upon_intake  \n",
       "0        Neutered Male  \n",
       "1        Spayed Female  \n",
       "2          Intact Male  \n",
       "3        Intact Female  \n",
       "4        Neutered Male  \n",
       "...                ...  \n",
       "169663     Intact Male  \n",
       "169664     Intact Male  \n",
       "169665     Intact Male  \n",
       "169666     Intact Male  \n",
       "169667   Neutered Male  \n",
       "\n",
       "[169668 rows x 5 columns]"
      ]
     },
     "execution_count": 68,
     "metadata": {},
     "output_type": "execute_result"
    }
   ],
   "source": [
    "df_intake.drop(\n",
    "    [\n",
    "        \"animal_id\",\n",
    "        \"datetime2\",\n",
    "        \"name\",\n",
    "        \"found_location\",\n",
    "        \"age_upon_intake\",\n",
    "        \"breed\",\n",
    "        \"color\",\n",
    "    ],\n",
    "    axis=1,\n",
    "    inplace=True,\n",
    ")\n",
    "df_intake"
   ]
  },
  {
   "cell_type": "code",
   "execution_count": 73,
   "metadata": {},
   "outputs": [],
   "source": [
    "df_intake = df_intake.map(lambda s: s.lower() if isinstance(s, str) else s)"
   ]
  },
  {
   "cell_type": "code",
   "execution_count": 74,
   "metadata": {},
   "outputs": [
    {
     "data": {
      "text/plain": [
       "array(['stray', 'public assist', 'owner surrender', 'abandoned',\n",
       "       'wildlife', 'euthanasia request'], dtype=object)"
      ]
     },
     "execution_count": 74,
     "metadata": {},
     "output_type": "execute_result"
    }
   ],
   "source": [
    "df_intake[\"intake_type\"].unique()"
   ]
  },
  {
   "cell_type": "code",
   "execution_count": 75,
   "metadata": {},
   "outputs": [
    {
     "data": {
      "text/plain": [
       "array(['normal', 'sick', 'injured', 'pregnant', 'neonatal', 'nursing',\n",
       "       'aged', 'unknown', 'med attn', 'medical', 'other', 'feral',\n",
       "       'behavior', 'med urgent', 'parvo', 'space', 'agonal', 'neurologic',\n",
       "       'panleuk', 'congenital'], dtype=object)"
      ]
     },
     "execution_count": 75,
     "metadata": {},
     "output_type": "execute_result"
    }
   ],
   "source": [
    "df_intake[\"intake_condition\"].unique()"
   ]
  },
  {
   "cell_type": "code",
   "execution_count": 81,
   "metadata": {},
   "outputs": [],
   "source": [
    "df_intake[\"intake_condition\"] = df_intake[\"intake_condition\"].replace(\n",
    "    [\"med attn\", \"med urgent\"], \"medical\"\n",
    ")"
   ]
  },
  {
   "cell_type": "code",
   "execution_count": 82,
   "metadata": {},
   "outputs": [
    {
     "data": {
      "text/plain": [
       "array(['normal', 'sick', 'injured', 'pregnant', 'neonatal', 'nursing',\n",
       "       'aged', 'unknown', 'medical', 'other', 'feral', 'behavior',\n",
       "       'parvo', 'space', 'agonal', 'neurologic', 'panleuk', 'congenital'],\n",
       "      dtype=object)"
      ]
     },
     "execution_count": 82,
     "metadata": {},
     "output_type": "execute_result"
    }
   ],
   "source": [
    "df_intake[\"intake_condition\"].unique()"
   ]
  },
  {
   "cell_type": "code",
   "execution_count": 71,
   "metadata": {},
   "outputs": [
    {
     "data": {
      "text/plain": [
       "array(['Neutered Male', 'Spayed Female', 'Intact Male', 'Intact Female',\n",
       "       'Unknown', 'NULL'], dtype=object)"
      ]
     },
     "execution_count": 71,
     "metadata": {},
     "output_type": "execute_result"
    }
   ],
   "source": [
    "df_intake[\"sex_upon_intake\"].unique()"
   ]
  },
  {
   "cell_type": "code",
   "execution_count": 85,
   "metadata": {},
   "outputs": [],
   "source": [
    "def separate_sex(column_input, index_target):\n",
    "    splits = column_input.split(\" \")\n",
    "    if len(splits) == 1:\n",
    "        return \"unknown\"\n",
    "    return splits[index_target].lower()\n",
    "\n",
    "\n",
    "# Apply the function to the Age column using the apply() function\n",
    "df_intake[\"sex_status\"] = df_intake[\"sex_upon_intake\"].apply(\n",
    "    lambda x: separate_sex(x, 0)\n",
    ")\n",
    "df_intake[\"sex_upon_intake\"] = df_intake[\"sex_upon_intake\"].apply(\n",
    "    lambda x: separate_sex(x, 1)\n",
    ")"
   ]
  },
  {
   "cell_type": "code",
   "execution_count": null,
   "metadata": {},
   "outputs": [],
   "source": [
    "df_intake.to_csv(\"data/clean/cleaned_aac_data.csv\")"
   ]
  }
 ],
 "metadata": {
  "kernelspec": {
   "display_name": "shelter-env",
   "language": "python",
   "name": "python3"
  },
  "language_info": {
   "codemirror_mode": {
    "name": "ipython",
    "version": 3
   },
   "file_extension": ".py",
   "mimetype": "text/x-python",
   "name": "python",
   "nbconvert_exporter": "python",
   "pygments_lexer": "ipython3",
   "version": "3.12.5"
  }
 },
 "nbformat": 4,
 "nbformat_minor": 2
}
